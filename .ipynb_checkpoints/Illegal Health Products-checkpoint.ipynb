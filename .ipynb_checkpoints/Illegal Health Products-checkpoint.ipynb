{
 "cells": [
  {
   "cell_type": "code",
   "execution_count": 1,
   "metadata": {},
   "outputs": [],
   "source": [
    "import pandas as pd\n",
    "import numpy as np\n",
    "import matplotlib.pyplot as plt\n",
    "%matplotlib inline"
   ]
  },
  {
   "cell_type": "code",
   "execution_count": 2,
   "metadata": {},
   "outputs": [
    {
     "name": "stdout",
     "output_type": "stream",
     "text": [
      "Most frequently found adulterants\n"
     ]
    },
    {
     "data": {
      "text/plain": [
       "[('Sildenafil', 156),\n",
       " ('Sibutramine', 57),\n",
       " ('Tadalafil', 30),\n",
       " ('Phenolphthalein', 22),\n",
       " ('Lignocaine', 21)]"
      ]
     },
     "execution_count": 2,
     "metadata": {},
     "output_type": "execute_result"
    }
   ],
   "source": [
    "csv = pd.read_csv('listing-of-illegal-health-products-found-in-singapore.csv')\n",
    "adulterant_column = csv['adulterant_type']\n",
    "\n",
    "adulterant_set = set()\n",
    "\n",
    "for row in adulterant_column:\n",
    "    for item in row.split('; '):\n",
    "        adulterant_set.add(item)\n",
    "\n",
    "adulterant_set = sorted(adulterant_set)\n",
    "\n",
    "adulterant_occurance = []\n",
    "\n",
    "for adulterant in adulterant_set:\n",
    "    occurance = len([row for row in adulterant_column if (adulterant + ';') in (row + ';')])\n",
    "    adulterant_occurance.append((adulterant, occurance))\n",
    "\n",
    "print('Most frequently found adulterants')\n",
    "sorted(adulterant_occurance, key=lambda item: item[1], reverse=True)[:5]"
   ]
  },
  {
   "cell_type": "code",
   "execution_count": 3,
   "metadata": {},
   "outputs": [],
   "source": [
    "adulterant_matrix = [\n",
    "    [(item + ';') in (row + ';') for item in adulterant_set] for row in adulterant_column\n",
    "]\n",
    "\n",
    "X = np.array(adulterant_matrix, dtype='int')"
   ]
  },
  {
   "cell_type": "code",
   "execution_count": 4,
   "metadata": {},
   "outputs": [],
   "source": [
    "from sklearn.decomposition import PCA\n",
    "pca = PCA().fit(X)"
   ]
  },
  {
   "cell_type": "code",
   "execution_count": 5,
   "metadata": {},
   "outputs": [
    {
     "data": {
      "text/plain": [
       "<matplotlib.collections.PathCollection at 0x1a21e45dd8>"
      ]
     },
     "execution_count": 5,
     "metadata": {},
     "output_type": "execute_result"
    },
    {
     "data": {
      "image/png": "[encoded data removed]",
      "text/plain": [
       "<matplotlib.figure.Figure at 0x1a1785b630>"
      ]
     },
     "metadata": {},
     "output_type": "display_data"
    }
   ],
   "source": [
    "reduced = pca.transform(X)\n",
    "\n",
    "x = reduced[:, 0]\n",
    "y = reduced[:, 1]\n",
    "\n",
    "plt.scatter(x, y, marker=\"o\")"
   ]
  },
  {
   "cell_type": "code",
   "execution_count": 6,
   "metadata": {},
   "outputs": [
    {
     "data": {
      "text/plain": [
       "<matplotlib.collections.PathCollection at 0x1a2231ff28>"
      ]
     },
     "execution_count": 6,
     "metadata": {},
     "output_type": "execute_result"
    },
    {
     "data": {
      "image/png": "[encoded data removed]",
      "text/plain": [
       "<matplotlib.figure.Figure at 0x1a21efb940>"
      ]
     },
     "metadata": {},
     "output_type": "display_data"
    }
   ],
   "source": [
    "from sklearn.cluster import KMeans\n",
    "\n",
    "n_clusters = 6\n",
    "\n",
    "kmeans = KMeans(n_clusters=n_clusters).fit(reduced[:, :2])\n",
    "\n",
    "plt.scatter(x, y, c=kmeans.labels_, marker=\"o\")"
   ]
  },
  {
   "cell_type": "code",
   "execution_count": 7,
   "metadata": {},
   "outputs": [
    {
     "name": "stdout",
     "output_type": "stream",
     "text": [
      "First principal component\n"
     ]
    },
    {
     "data": {
      "text/plain": [
       "[('Sildenafil', -0.72366473559886879),\n",
       " ('Sibutramine', 0.58260614316390091),\n",
       " ('Phenolphthalein', 0.3368214024233433),\n",
       " ('Tadalafil', -0.092568881405076658),\n",
       " ('Desmethylsibutramine', 0.063557635641733931),\n",
       " ('Lignocaine', 0.050122451972715504),\n",
       " ('Dexamethasone', 0.036755771466760824),\n",
       " ('Caffeine', 0.035739781819840388),\n",
       " ('Vardenafil', -0.033332893944085625),\n",
       " ('Active Principles of Thyroid Gland', 0.030857548566615656)]"
      ]
     },
     "execution_count": 7,
     "metadata": {},
     "output_type": "execute_result"
    }
   ],
   "source": [
    "print('First principal component')\n",
    "sorted(zip(adulterant_set, pca.components_[0]), key=lambda x: abs(x[1]), reverse=True)[:10]"
   ]
  },
  {
   "cell_type": "code",
   "execution_count": 8,
   "metadata": {},
   "outputs": [
    {
     "name": "stdout",
     "output_type": "stream",
     "text": [
      "2nd principal component\n"
     ]
    },
    {
     "data": {
      "text/plain": [
       "[('Sibutramine', 0.64017651058268443),\n",
       " ('Sildenafil', 0.57025139656431023),\n",
       " ('Lignocaine', -0.36936531939168421),\n",
       " ('Phenolphthalein', 0.23824260918132611),\n",
       " ('Dexamethasone', -0.13228437452203851),\n",
       " ('Tadalafil', 0.12547419419914041),\n",
       " ('Piroxicam', -0.098228564522067158),\n",
       " ('Chlorpheniramine', -0.079424423576241257),\n",
       " ('Frusemide', -0.060974686598720573),\n",
       " ('Glibenclamide', 0.055765019662694641)]"
      ]
     },
     "execution_count": 8,
     "metadata": {},
     "output_type": "execute_result"
    }
   ],
   "source": [
    "print('2nd principal component')\n",
    "sorted(zip(adulterant_set, pca.components_[1]), key=lambda x: abs(x[1]), reverse=True)[:10]"
   ]
  },
  {
   "cell_type": "code",
   "execution_count": 9,
   "metadata": {},
   "outputs": [
    {
     "name": "stdout",
     "output_type": "stream",
     "text": [
      "Group 1\n",
      "NNAcyclopentyl nortadalfil\n",
      "Tadalafil\n",
      "Nortadalafil\n",
      "Procaine\n",
      "Aminotadalafil\n",
      "\n",
      "Group 2\n",
      "Sildenafil\n",
      "Sildenafil\n",
      "Sildenafil\n",
      "Sildenafil; Tadalafil\n",
      "Sildenafil; Tadalafil; Vardenafil\n",
      "\n",
      "Group 3\n",
      "Phenolphthalein; Sibutramine\n",
      "Phenolphthalein; Sibutramine\n",
      "Phenolphthalein; Sibutramine\n",
      "Phenolphthalein; Sibutramine; Desmethylsibutramine\n",
      "Phenolphthalein; Sibutramine\n",
      "\n",
      "Group 4\n",
      "Sibutramine; Sildenafil; Tadalafil; Imidazosagatriazinone\n",
      "Sibutramine; Sildenafil\n",
      "Sibutramine; Sildenafil\n",
      "Sibutramine; Sildenafil; Glibenclamide; Tadalafil\n",
      "Sibutramine; Sildenafil; Tadalafil; Diclofenac\n",
      "\n",
      "Group 5\n",
      "Lignocaine\n",
      "Chlorpheniramine; Frusemide; Piroxicam\n",
      "Chlorpheniramine; Frusemide; Piroxicam; Mephentermine\n",
      "Lignocaine\n",
      "Lignocaine\n",
      "\n",
      "Group 6\n",
      "Sibutramine\n",
      "Sibutramine\n",
      "Sibutramine\n",
      "Sibutramine\n",
      "Sibutramine\n",
      "\n"
     ]
    }
   ],
   "source": [
    "from itertools import groupby\n",
    "\n",
    "labelled = sorted(zip(kmeans.labels_, adulterant_column), key=lambda item: item[0])\n",
    "               \n",
    "for k, g in groupby(labelled, lambda item: item[0]):\n",
    "    print('Group %d' % (k + 1))\n",
    "    for item in list(g)[:5]:\n",
    "        print(item[1])\n",
    "    print()"
   ]
  }
 ],
 "metadata": {
  "kernelspec": {
   "display_name": "Python 3",
   "language": "python",
   "name": "python3"
  },
  "language_info": {
   "codemirror_mode": {
    "name": "ipython",
    "version": 3
   },
   "file_extension": ".py",
   "mimetype": "text/x-python",
   "name": "python",
   "nbconvert_exporter": "python",
   "pygments_lexer": "ipython3",
   "version": "3.6.3"
  }
 },
 "nbformat": 4,
 "nbformat_minor": 1
}
